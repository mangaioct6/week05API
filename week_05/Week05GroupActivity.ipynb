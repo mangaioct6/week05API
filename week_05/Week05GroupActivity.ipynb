{
 "cells": [
  {
   "cell_type": "markdown",
   "id": "01200bc6",
   "metadata": {},
   "source": [
    "# Week05GroupActivity"
   ]
  },
  {
   "cell_type": "code",
   "execution_count": 53,
   "id": "330d23a0",
   "metadata": {},
   "outputs": [
    {
     "name": "stdout",
     "output_type": "stream",
     "text": [
      "Input = 43905\n",
      "Output = 95430\n"
     ]
    }
   ],
   "source": [
    "#1. Make a function that can take any non-negative integer as an argument and return it with its digits in descending order. \n",
    "#Essentially, rearrange the digits to create the highest possible number. If no number is passed in, make the default \n",
    "#value inputted = 111111.Input = 43905 Output = 95430 Input = 584366 Output = 866543\n",
    "\n",
    "def descending(input1):\n",
    "    if input1 == \"\":\n",
    "        print(\"inputted = 111111\")\n",
    "    elif int(input1) > 0:\n",
    "        input2=str(input1) #converting integers into string. It prints '43905'\n",
    "        list1=list(input2) #creating a string list.It prints ['4','3','9','0','5']\n",
    "        list2=sorted(list1,reverse=True) #sorting list in descending order and the output for this is ['9','5','4','3','0']\n",
    "        string=''.join(list2) #string method join() can be used to concatenate a list of strings into a single string.\n",
    "        #It prints'95430'\n",
    "        output=int(string) #converting string into integer\n",
    "        print(\"Output =\", output)\n",
    "    else:\n",
    "        return 'negative'\n",
    "input1=input(\"Input = \")\n",
    "descending(input1)"
   ]
  },
  {
   "cell_type": "code",
   "execution_count": 54,
   "id": "fb59cabd",
   "metadata": {},
   "outputs": [
    {
     "name": "stdout",
     "output_type": "stream",
     "text": [
      "Input = 584366\n",
      "Output = 866543\n"
     ]
    }
   ],
   "source": [
    "def descending(input1):\n",
    "    if input1 == \"\":\n",
    "         print(\"inputted = 111111\")\n",
    "    elif int(input1) > 0:\n",
    "        input2=str(input1) \n",
    "        list1=list(input2) \n",
    "        list2=sorted(list1,reverse=True) \n",
    "        string=''.join(list2) \n",
    "        output=int(string)\n",
    "        print(\"Output =\", output)\n",
    "    else:\n",
    "        return 'negative'\n",
    "input1=input(\"Input = \")\n",
    "descending(input1)"
   ]
  },
  {
   "cell_type": "code",
   "execution_count": 58,
   "id": "619f87c0",
   "metadata": {},
   "outputs": [
    {
     "name": "stdout",
     "output_type": "stream",
     "text": [
      "Input = \n",
      "inputted = 111111\n"
     ]
    }
   ],
   "source": [
    "def descending(input1):\n",
    "    if input1 == \"\":\n",
    "        print(\"inputted = 111111\")\n",
    "    elif int(input1) > 0:\n",
    "        input2=str(input1) \n",
    "        list1=list(input2) \n",
    "        list2=sorted(list1,reverse=True) \n",
    "        string=''.join(list2) \n",
    "        #It prints'95430'\n",
    "        output=int(string) \n",
    "        print(\"Output =\", output)\n",
    "    else:\n",
    "        return 'negative'\n",
    "input1=input(\"Input = \")\n",
    "descending(input1)\n",
    "#If no input is given, returning 111111"
   ]
  },
  {
   "cell_type": "code",
   "execution_count": null,
   "id": "1a634325",
   "metadata": {},
   "outputs": [],
   "source": [
    "#2.Import jeopardy.csv and create a dataframe from the data. Find out the following:\n",
    "#a. How many rows are there in the dataframe? What does a row represent?\n",
    "#b. How many unique shows were there each year?\n",
    "#c. Think of another question that this data can help answer. Make that question a header in your notebook.\n",
    "#d. Answer your question and show the steps you used to do so clearly.\n"
   ]
  },
  {
   "cell_type": "code",
   "execution_count": 3,
   "id": "8ce4c0c5",
   "metadata": {},
   "outputs": [],
   "source": [
    "import numpy as np\n",
    "import pandas as pd\n",
    "#file_to_load=\"JEOPARDY_CSV.csv\""
   ]
  },
  {
   "cell_type": "code",
   "execution_count": 5,
   "id": "23f04c51",
   "metadata": {},
   "outputs": [],
   "source": [
    "jeopardy=pd.read_csv(\"JEOPARDY_CSV.csv\")#,parse_dates=['Date'],index_col='Date')"
   ]
  },
  {
   "cell_type": "code",
   "execution_count": 28,
   "id": "0c833438",
   "metadata": {},
   "outputs": [
    {
     "data": {
      "text/html": [
       "<div>\n",
       "<style scoped>\n",
       "    .dataframe tbody tr th:only-of-type {\n",
       "        vertical-align: middle;\n",
       "    }\n",
       "\n",
       "    .dataframe tbody tr th {\n",
       "        vertical-align: top;\n",
       "    }\n",
       "\n",
       "    .dataframe thead th {\n",
       "        text-align: right;\n",
       "    }\n",
       "</style>\n",
       "<table border=\"1\" class=\"dataframe\">\n",
       "  <thead>\n",
       "    <tr style=\"text-align: right;\">\n",
       "      <th></th>\n",
       "      <th>Show Number</th>\n",
       "      <th>Air Date</th>\n",
       "      <th>Round</th>\n",
       "      <th>Category</th>\n",
       "      <th>Value</th>\n",
       "      <th>Question</th>\n",
       "      <th>Answer</th>\n",
       "    </tr>\n",
       "  </thead>\n",
       "  <tbody>\n",
       "    <tr>\n",
       "      <th>0</th>\n",
       "      <td>4680</td>\n",
       "      <td>12/31/2004</td>\n",
       "      <td>Jeopardy!</td>\n",
       "      <td>HISTORY</td>\n",
       "      <td>$200</td>\n",
       "      <td>For the last 8 years of his life, Galileo was ...</td>\n",
       "      <td>Copernicus</td>\n",
       "    </tr>\n",
       "    <tr>\n",
       "      <th>1</th>\n",
       "      <td>4680</td>\n",
       "      <td>12/31/2004</td>\n",
       "      <td>Jeopardy!</td>\n",
       "      <td>ESPN's TOP 10 ALL-TIME ATHLETES</td>\n",
       "      <td>$200</td>\n",
       "      <td>No. 2: 1912 Olympian; football star at Carlisl...</td>\n",
       "      <td>Jim Thorpe</td>\n",
       "    </tr>\n",
       "    <tr>\n",
       "      <th>2</th>\n",
       "      <td>4680</td>\n",
       "      <td>12/31/2004</td>\n",
       "      <td>Jeopardy!</td>\n",
       "      <td>EVERYBODY TALKS ABOUT IT...</td>\n",
       "      <td>$200</td>\n",
       "      <td>The city of Yuma in this state has a record av...</td>\n",
       "      <td>Arizona</td>\n",
       "    </tr>\n",
       "    <tr>\n",
       "      <th>3</th>\n",
       "      <td>4680</td>\n",
       "      <td>12/31/2004</td>\n",
       "      <td>Jeopardy!</td>\n",
       "      <td>THE COMPANY LINE</td>\n",
       "      <td>$200</td>\n",
       "      <td>In 1963, live on \"The Art Linkletter Show\", th...</td>\n",
       "      <td>McDonald's</td>\n",
       "    </tr>\n",
       "    <tr>\n",
       "      <th>4</th>\n",
       "      <td>4680</td>\n",
       "      <td>12/31/2004</td>\n",
       "      <td>Jeopardy!</td>\n",
       "      <td>EPITAPHS &amp; TRIBUTES</td>\n",
       "      <td>$200</td>\n",
       "      <td>Signer of the Dec. of Indep., framer of the Co...</td>\n",
       "      <td>John Adams</td>\n",
       "    </tr>\n",
       "    <tr>\n",
       "      <th>...</th>\n",
       "      <td>...</td>\n",
       "      <td>...</td>\n",
       "      <td>...</td>\n",
       "      <td>...</td>\n",
       "      <td>...</td>\n",
       "      <td>...</td>\n",
       "      <td>...</td>\n",
       "    </tr>\n",
       "    <tr>\n",
       "      <th>195</th>\n",
       "      <td>3673</td>\n",
       "      <td>7/19/2000</td>\n",
       "      <td>Jeopardy!</td>\n",
       "      <td>FLAGS OF THE WORLD</td>\n",
       "      <td>$400</td>\n",
       "      <td>In the 1990s, this nation whose flag is seen h...</td>\n",
       "      <td>Germany</td>\n",
       "    </tr>\n",
       "    <tr>\n",
       "      <th>196</th>\n",
       "      <td>3673</td>\n",
       "      <td>7/19/2000</td>\n",
       "      <td>Jeopardy!</td>\n",
       "      <td>ARCHITECTS</td>\n",
       "      <td>$400</td>\n",
       "      <td>Dallas-Fort Worth Airport architect Gyo Obata ...</td>\n",
       "      <td>Air &amp; Space Museum</td>\n",
       "    </tr>\n",
       "    <tr>\n",
       "      <th>197</th>\n",
       "      <td>3673</td>\n",
       "      <td>7/19/2000</td>\n",
       "      <td>Jeopardy!</td>\n",
       "      <td>1994 FILMS</td>\n",
       "      <td>$400</td>\n",
       "      <td>Containing the hit \"Can You Feel The Love Toni...</td>\n",
       "      <td>The Lion King</td>\n",
       "    </tr>\n",
       "    <tr>\n",
       "      <th>198</th>\n",
       "      <td>3673</td>\n",
       "      <td>7/19/2000</td>\n",
       "      <td>Jeopardy!</td>\n",
       "      <td>THE EYES HAVE IT</td>\n",
       "      <td>$400</td>\n",
       "      <td>Flower seen here (that fits the category)</td>\n",
       "      <td>Iris</td>\n",
       "    </tr>\n",
       "    <tr>\n",
       "      <th>199</th>\n",
       "      <td>3673</td>\n",
       "      <td>7/19/2000</td>\n",
       "      <td>Jeopardy!</td>\n",
       "      <td>GENERAL SCIENCE</td>\n",
       "      <td>$500</td>\n",
       "      <td>On the pH scale, a pH of 7 indicates this type...</td>\n",
       "      <td>Neutral</td>\n",
       "    </tr>\n",
       "  </tbody>\n",
       "</table>\n",
       "<p>200 rows × 7 columns</p>\n",
       "</div>"
      ],
      "text/plain": [
       "     Show Number    Air Date      Round                         Category  \\\n",
       "0           4680  12/31/2004  Jeopardy!                          HISTORY   \n",
       "1           4680  12/31/2004  Jeopardy!  ESPN's TOP 10 ALL-TIME ATHLETES   \n",
       "2           4680  12/31/2004  Jeopardy!      EVERYBODY TALKS ABOUT IT...   \n",
       "3           4680  12/31/2004  Jeopardy!                 THE COMPANY LINE   \n",
       "4           4680  12/31/2004  Jeopardy!              EPITAPHS & TRIBUTES   \n",
       "..           ...         ...        ...                              ...   \n",
       "195         3673   7/19/2000  Jeopardy!               FLAGS OF THE WORLD   \n",
       "196         3673   7/19/2000  Jeopardy!                       ARCHITECTS   \n",
       "197         3673   7/19/2000  Jeopardy!                       1994 FILMS   \n",
       "198         3673   7/19/2000  Jeopardy!                 THE EYES HAVE IT   \n",
       "199         3673   7/19/2000  Jeopardy!                  GENERAL SCIENCE   \n",
       "\n",
       "     Value                                           Question  \\\n",
       "0    $200   For the last 8 years of his life, Galileo was ...   \n",
       "1    $200   No. 2: 1912 Olympian; football star at Carlisl...   \n",
       "2    $200   The city of Yuma in this state has a record av...   \n",
       "3    $200   In 1963, live on \"The Art Linkletter Show\", th...   \n",
       "4    $200   Signer of the Dec. of Indep., framer of the Co...   \n",
       "..     ...                                                ...   \n",
       "195  $400   In the 1990s, this nation whose flag is seen h...   \n",
       "196  $400   Dallas-Fort Worth Airport architect Gyo Obata ...   \n",
       "197  $400   Containing the hit \"Can You Feel The Love Toni...   \n",
       "198  $400           Flower seen here (that fits the category)   \n",
       "199  $500   On the pH scale, a pH of 7 indicates this type...   \n",
       "\n",
       "                 Answer  \n",
       "0            Copernicus  \n",
       "1            Jim Thorpe  \n",
       "2               Arizona  \n",
       "3            McDonald's  \n",
       "4            John Adams  \n",
       "..                  ...  \n",
       "195             Germany  \n",
       "196  Air & Space Museum  \n",
       "197       The Lion King  \n",
       "198                Iris  \n",
       "199             Neutral  \n",
       "\n",
       "[200 rows x 7 columns]"
      ]
     },
     "execution_count": 28,
     "metadata": {},
     "output_type": "execute_result"
    }
   ],
   "source": [
    "jeopardy.head(200)"
   ]
  },
  {
   "cell_type": "code",
   "execution_count": 65,
   "id": "a5efac5c",
   "metadata": {},
   "outputs": [
    {
     "name": "stdout",
     "output_type": "stream",
     "text": [
      "216930\n"
     ]
    }
   ],
   "source": [
    "#2a) To count number of rows in csv file, we can use len() function.Each row represents a set of values delimited with a particular delimiter.\n",
    "print(len(jeopardy))"
   ]
  },
  {
   "cell_type": "code",
   "execution_count": 7,
   "id": "81237603",
   "metadata": {},
   "outputs": [
    {
     "data": {
      "text/plain": [
       "3640"
      ]
     },
     "execution_count": 7,
     "metadata": {},
     "output_type": "execute_result"
    }
   ],
   "source": [
    "#2b) nunique() function will help to calculate the number of unique shows in a year.\n",
    "jeopardy['Show Number'].nunique()"
   ]
  },
  {
   "cell_type": "markdown",
   "id": "32806c74",
   "metadata": {},
   "source": [
    "# 2c)How many counts of unique values are there in category column?\n"
   ]
  },
  {
   "cell_type": "code",
   "execution_count": null,
   "id": "2880830f",
   "metadata": {},
   "outputs": [],
   "source": [
    "#2d) value_counts() function returns object containing counts of unique values.The result will be in descending order \n",
    "#so that the first element is the most frequently-occurring element."
   ]
  },
  {
   "cell_type": "code",
   "execution_count": 31,
   "id": "97ce4531",
   "metadata": {},
   "outputs": [
    {
     "data": {
      "text/plain": [
       "BEFORE & AFTER                   547\n",
       "SCIENCE                          519\n",
       "LITERATURE                       496\n",
       "AMERICAN HISTORY                 418\n",
       "POTPOURRI                        401\n",
       "                                ... \n",
       "POTPOURRI...NO FOOLIN'             1\n",
       "BRITISH PAINTERS                   1\n",
       "MIDWAY ISLAND                      1\n",
       "THE OXFORD ENGLISH DICTIONARY      1\n",
       "EXPLORING                          1\n",
       "Name:  Category, Length: 27983, dtype: int64"
      ]
     },
     "execution_count": 31,
     "metadata": {},
     "output_type": "execute_result"
    }
   ],
   "source": [
    "jeopardy[\" Category\"].value_counts()"
   ]
  },
  {
   "cell_type": "code",
   "execution_count": 48,
   "id": "bd3075de",
   "metadata": {},
   "outputs": [
    {
     "data": {
      "image/png": "[encoded data removed]",
      "text/plain": [
       "<Figure size 432x288 with 1 Axes>"
      ]
     },
     "metadata": {
      "needs_background": "light"
     },
     "output_type": "display_data"
    }
   ],
   "source": [
    "#3. Create any graph using matplotlib that helps you understand the jeopardy data. Explain what\n",
    "#your graph shows and why it is useful.\n",
    "\n",
    "#importing matplotlib\n",
    "import matplotlib.pyplot as plt\n",
    "fig,ax = plt.subplots()\n",
    "\n",
    "#choosing two columns to create graph\n",
    "ax.plot(jeopardy[' Air Date'].head(59),jeopardy['Show Number'].head(59) ,marker='v',linestyle='--',color ='r')\n",
    "\n",
    "#specifying names for x axes and y axes\n",
    "ax.set_xlabel(\" Air Date\")\n",
    "ax.set_ylabel(\"Show Number\")\n",
    "\n",
    "#giving title to the plot\n",
    "ax.set_title(\"Jeopardy Graph\")\n",
    "\n",
    "#showing the graph\n",
    "plt.show()"
   ]
  },
  {
   "cell_type": "code",
   "execution_count": null,
   "id": "c26b75d3",
   "metadata": {},
   "outputs": [],
   "source": [
    "#I have selected Air date and Show Number coloumn to plot the graph.Since the first change occurs in Air date is in its 58th\n",
    "#row. So i chose head count till 60 for both columns. Plot explains various show number for the diffewrent dates."
   ]
  },
  {
   "cell_type": "code",
   "execution_count": null,
   "id": "ac5618dc",
   "metadata": {},
   "outputs": [],
   "source": []
  }
 ],
 "metadata": {
  "kernelspec": {
   "display_name": "Python 3 (ipykernel)",
   "language": "python",
   "name": "python3"
  },
  "language_info": {
   "codemirror_mode": {
    "name": "ipython",
    "version": 3
   },
   "file_extension": ".py",
   "mimetype": "text/x-python",
   "name": "python",
   "nbconvert_exporter": "python",
   "pygments_lexer": "ipython3",
   "version": "3.7.4"
  }
 },
 "nbformat": 4,
 "nbformat_minor": 5
}
